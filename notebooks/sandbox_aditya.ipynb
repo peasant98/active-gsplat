{
 "cells": [
  {
   "cell_type": "markdown",
   "metadata": {},
   "source": [
    "# Labelling using Shannon-Entropy"
   ]
  },
  {
   "cell_type": "code",
   "execution_count": 4,
   "metadata": {},
   "outputs": [],
   "source": [
    "from skimage import io\n",
    "from skimage.measure import shannon_entropy\n",
    "\n",
    "def preference_function(image_1_path, image_2_path):\n",
    "    image_1 = io.imread(image_1_path, as_gray=True)\n",
    "    image_2 = io.imread(image_2_path, as_gray=True)\n",
    "\n",
    "    entropy_1 = shannon_entropy(image_1)\n",
    "    entropy_2 = shannon_entropy(image_2)\n",
    "\n",
    "    return 1 if entropy_1 > entropy_2 else 0\n"
   ]
  },
  {
   "cell_type": "code",
   "execution_count": 5,
   "metadata": {},
   "outputs": [
    {
     "data": {
      "text/plain": [
       "0"
      ]
     },
     "execution_count": 5,
     "metadata": {},
     "output_type": "execute_result"
    }
   ],
   "source": [
    "preference_function(\"../../dataset/img0.png\", \"../../dataset/img1.png\")"
   ]
  },
  {
   "cell_type": "markdown",
   "metadata": {},
   "source": [
    "# Generating Pairs of Dataset "
   ]
  },
  {
   "cell_type": "markdown",
   "metadata": {},
   "source": [
    "## Reduce 5550 img dataset size to 1% ~ 55"
   ]
  },
  {
   "cell_type": "code",
   "execution_count": 6,
   "metadata": {},
   "outputs": [
    {
     "name": "stdout",
     "output_type": "stream",
     "text": [
      "Copied 55 images to ../one_percent_dataset\n"
     ]
    }
   ],
   "source": [
    "import os\n",
    "import random\n",
    "import shutil\n",
    "\n",
    "# Paths\n",
    "original_folder = \"../../dataset\"\n",
    "new_folder = \"../one_percent_dataset\"\n",
    "\n",
    "# Create the new folder if it doesn't exist\n",
    "os.makedirs(new_folder, exist_ok=True)\n",
    "\n",
    "# Get a list of all image files in the original folder\n",
    "all_images = [f for f in os.listdir(original_folder) if os.path.isfile(os.path.join(original_folder, f))]\n",
    "\n",
    "# Calculate 1% of the total number of images\n",
    "num_images_to_sample = max(1, int(len(all_images) * 0.01))  # Ensure at least one image is selected\n",
    "random_sample = random.sample(all_images, num_images_to_sample)\n",
    "\n",
    "# Copy the selected images to the new folder\n",
    "for image in random_sample:\n",
    "    shutil.copy(os.path.join(original_folder, image), os.path.join(new_folder, image))\n",
    "\n",
    "print(f\"Copied {len(random_sample)} images to {new_folder}\")\n"
   ]
  },
  {
   "cell_type": "markdown",
   "metadata": {},
   "source": [
    "## Generate all pairs of 55 images = 1485 imgs"
   ]
  },
  {
   "cell_type": "code",
   "execution_count": 7,
   "metadata": {},
   "outputs": [
    {
     "name": "stdout",
     "output_type": "stream",
     "text": [
      "Generated 1485 pairs and saved to onepercent_all_image_pairs.csv\n"
     ]
    }
   ],
   "source": [
    "import os\n",
    "import itertools\n",
    "import pandas as pd\n",
    "\n",
    "# Path to the new folder with the reduced dataset\n",
    "dataset_folder = \"../one_percent_dataset\"\n",
    "\n",
    "# Get a list of all images in the folder\n",
    "images = [f for f in os.listdir(dataset_folder) if os.path.isfile(os.path.join(dataset_folder, f))]\n",
    "\n",
    "# Generate all possible pairs (order doesn't matter, so use combinations)\n",
    "pairs = list(itertools.combinations(images, 2))\n",
    "\n",
    "# Convert pairs to a DataFrame for saving\n",
    "pairs_df = pd.DataFrame(pairs, columns=[\"Image_1\", \"Image_2\"])\n",
    "\n",
    "# Save pairs to a CSV file\n",
    "output_csv = \"onepercent_all_image_pairs.csv\"\n",
    "pairs_df.to_csv(output_csv, index=False)\n",
    "\n",
    "print(f\"Generated {len(pairs)} pairs and saved to {output_csv}\")\n"
   ]
  },
  {
   "cell_type": "code",
   "execution_count": null,
   "metadata": {},
   "outputs": [],
   "source": []
  }
 ],
 "metadata": {
  "kernelspec": {
   "display_name": "231aproj",
   "language": "python",
   "name": "python3"
  },
  "language_info": {
   "codemirror_mode": {
    "name": "ipython",
    "version": 3
   },
   "file_extension": ".py",
   "mimetype": "text/x-python",
   "name": "python",
   "nbconvert_exporter": "python",
   "pygments_lexer": "ipython3",
   "version": "3.12.0"
  }
 },
 "nbformat": 4,
 "nbformat_minor": 2
}
